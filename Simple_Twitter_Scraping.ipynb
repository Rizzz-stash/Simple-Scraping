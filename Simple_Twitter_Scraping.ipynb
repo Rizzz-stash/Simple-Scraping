{
  "nbformat": 4,
  "nbformat_minor": 0,
  "metadata": {
    "colab": {
      "provenance": [],
      "collapsed_sections": []
    },
    "kernelspec": {
      "name": "python3",
      "display_name": "Python 3"
    },
    "language_info": {
      "name": "python"
    }
  },
  "cells": [
    {
      "cell_type": "code",
      "execution_count": null,
      "metadata": {
        "id": "iZ-Zt9CRkCg-"
      },
      "outputs": [],
      "source": [
        "#Importing necessary modules for data manipulation\n",
        "\n",
        "import pandas as pd\n",
        "import csv\n",
        "import numpy as np\n",
        "import tweepy\n"
      ]
    },
    {
      "cell_type": "code",
      "source": [
        "#Installing SNSCRAPE module/library, later we use that for scrape all data from twitter\n",
        "pip install snscrape"
      ],
      "metadata": {
        "colab": {
          "base_uri": "https://localhost:8080/"
        },
        "id": "XJwNchytkeAe",
        "outputId": "888806e5-ee3c-4da2-d85a-643e7fa29bce"
      },
      "execution_count": null,
      "outputs": [
        {
          "output_type": "stream",
          "name": "stdout",
          "text": [
            "Looking in indexes: https://pypi.org/simple, https://us-python.pkg.dev/colab-wheels/public/simple/\n",
            "Collecting snscrape\n",
            "  Downloading snscrape-0.3.4-py3-none-any.whl (35 kB)\n",
            "Requirement already satisfied: beautifulsoup4 in /usr/local/lib/python3.7/dist-packages (from snscrape) (4.6.3)\n",
            "Requirement already satisfied: requests[socks] in /usr/local/lib/python3.7/dist-packages (from snscrape) (2.23.0)\n",
            "Requirement already satisfied: lxml in /usr/local/lib/python3.7/dist-packages (from snscrape) (4.9.1)\n",
            "Requirement already satisfied: certifi>=2017.4.17 in /usr/local/lib/python3.7/dist-packages (from requests[socks]->snscrape) (2022.6.15)\n",
            "Requirement already satisfied: urllib3!=1.25.0,!=1.25.1,<1.26,>=1.21.1 in /usr/local/lib/python3.7/dist-packages (from requests[socks]->snscrape) (1.24.3)\n",
            "Requirement already satisfied: chardet<4,>=3.0.2 in /usr/local/lib/python3.7/dist-packages (from requests[socks]->snscrape) (3.0.4)\n",
            "Requirement already satisfied: idna<3,>=2.5 in /usr/local/lib/python3.7/dist-packages (from requests[socks]->snscrape) (2.10)\n",
            "Requirement already satisfied: PySocks!=1.5.7,>=1.5.6 in /usr/local/lib/python3.7/dist-packages (from requests[socks]->snscrape) (1.7.1)\n",
            "Installing collected packages: snscrape\n",
            "Successfully installed snscrape-0.3.4\n"
          ]
        }
      ]
    },
    {
      "cell_type": "code",
      "source": [
        "#Importing twitter module available in snscrape module\n",
        "import snscrape.modules.twitter as sntwitter\n",
        "\n",
        "\n",
        "# Creating list to append tweet data to\n",
        "tweets_list2 = []\n",
        "\n",
        "# Using TwitterSearchScraper to scrape data and append tweets to list\n",
        "for i,tweet in enumerate(sntwitter.TwitterSearchScraper('KOMINFO since:2022-07-01 until:2022-08-31').get_items()):\n",
        "    if i>1000:\n",
        "        break\n",
        "    tweets_list2.append([tweet.date, tweet.id, tweet.content, tweet.username])\n",
        "    \n",
        "# Creating a dataframe from the tweets list above\n",
        "tweets_df2 = pd.DataFrame(tweets_list2, columns=['Datetime', 'Tweet Id', 'Text', 'Username'])"
      ],
      "metadata": {
        "id": "EtSPLP8Lkgm1"
      },
      "execution_count": null,
      "outputs": []
    },
    {
      "cell_type": "code",
      "source": [
        "#Displaying data samples\n",
        "tweets_df2.head(10)"
      ],
      "metadata": {
        "colab": {
          "base_uri": "https://localhost:8080/",
          "height": 363
        },
        "id": "FUVhYMK-lj6G",
        "outputId": "567a8234-3bb4-4584-bc28-e16a049a4a45"
      },
      "execution_count": null,
      "outputs": [
        {
          "output_type": "execute_result",
          "data": {
            "text/plain": [
              "                   Datetime             Tweet Id  \\\n",
              "0 2022-08-30 23:59:31+00:00  1564764784624828416   \n",
              "1 2022-08-30 23:59:22+00:00  1564764749874999296   \n",
              "2 2022-08-30 23:57:37+00:00  1564764308856520704   \n",
              "3 2022-08-30 23:50:57+00:00  1564762631474253824   \n",
              "4 2022-08-30 23:44:36+00:00  1564761033662935041   \n",
              "5 2022-08-30 23:43:47+00:00  1564760826367553537   \n",
              "6 2022-08-30 23:42:33+00:00  1564760515272130560   \n",
              "7 2022-08-30 23:42:12+00:00  1564760428051574784   \n",
              "8 2022-08-30 23:39:52+00:00  1564759839200673792   \n",
              "9 2022-08-30 23:39:28+00:00  1564759738214416385   \n",
              "\n",
              "                                                Text       Username  \n",
              "0  Opini WTP 2021 untuk Kominfo https://t.co/orIv...       19yudith  \n",
              "1  meanwhile kominfo malah ngeblok ngeblokin 🫣✌🏻 ...  crestfallen89  \n",
              "2  @hyang_wisnu @kemkominfo @bpkri Mantap kerja k...       19yudith  \n",
              "3  @LenteraBangsaa_ @dewanpers @kemkominfo Media ...    wisnukombot  \n",
              "4  @hyang_wisnu @PlateJohnny Menurut @kemkominfo ...      arinuzula  \n",
              "5  Kemkominfo Pastikan Siaran TV Analog Berakhir ...       KakakLap  \n",
              "6  @hyang_wisnu @PlateJohnny @kemkominfo @jokowi ...      arinuzula  \n",
              "7  Menurut @kemkominfo pada pertemuan ke 4 ekonom...      arinuzula  \n",
              "8  @hyang_wisnu @PlateJohnny @jokowi Perkuat kola...      arinuzula  \n",
              "9  Perkuat kolaborasi teknologi digital.\\nPesan @...      arinuzula  "
            ],
            "text/html": [
              "\n",
              "  <div id=\"df-043a4238-3fe7-446a-acf8-7b8a8bbdf793\">\n",
              "    <div class=\"colab-df-container\">\n",
              "      <div>\n",
              "<style scoped>\n",
              "    .dataframe tbody tr th:only-of-type {\n",
              "        vertical-align: middle;\n",
              "    }\n",
              "\n",
              "    .dataframe tbody tr th {\n",
              "        vertical-align: top;\n",
              "    }\n",
              "\n",
              "    .dataframe thead th {\n",
              "        text-align: right;\n",
              "    }\n",
              "</style>\n",
              "<table border=\"1\" class=\"dataframe\">\n",
              "  <thead>\n",
              "    <tr style=\"text-align: right;\">\n",
              "      <th></th>\n",
              "      <th>Datetime</th>\n",
              "      <th>Tweet Id</th>\n",
              "      <th>Text</th>\n",
              "      <th>Username</th>\n",
              "    </tr>\n",
              "  </thead>\n",
              "  <tbody>\n",
              "    <tr>\n",
              "      <th>0</th>\n",
              "      <td>2022-08-30 23:59:31+00:00</td>\n",
              "      <td>1564764784624828416</td>\n",
              "      <td>Opini WTP 2021 untuk Kominfo https://t.co/orIv...</td>\n",
              "      <td>19yudith</td>\n",
              "    </tr>\n",
              "    <tr>\n",
              "      <th>1</th>\n",
              "      <td>2022-08-30 23:59:22+00:00</td>\n",
              "      <td>1564764749874999296</td>\n",
              "      <td>meanwhile kominfo malah ngeblok ngeblokin 🫣✌🏻 ...</td>\n",
              "      <td>crestfallen89</td>\n",
              "    </tr>\n",
              "    <tr>\n",
              "      <th>2</th>\n",
              "      <td>2022-08-30 23:57:37+00:00</td>\n",
              "      <td>1564764308856520704</td>\n",
              "      <td>@hyang_wisnu @kemkominfo @bpkri Mantap kerja k...</td>\n",
              "      <td>19yudith</td>\n",
              "    </tr>\n",
              "    <tr>\n",
              "      <th>3</th>\n",
              "      <td>2022-08-30 23:50:57+00:00</td>\n",
              "      <td>1564762631474253824</td>\n",
              "      <td>@LenteraBangsaa_ @dewanpers @kemkominfo Media ...</td>\n",
              "      <td>wisnukombot</td>\n",
              "    </tr>\n",
              "    <tr>\n",
              "      <th>4</th>\n",
              "      <td>2022-08-30 23:44:36+00:00</td>\n",
              "      <td>1564761033662935041</td>\n",
              "      <td>@hyang_wisnu @PlateJohnny Menurut @kemkominfo ...</td>\n",
              "      <td>arinuzula</td>\n",
              "    </tr>\n",
              "    <tr>\n",
              "      <th>5</th>\n",
              "      <td>2022-08-30 23:43:47+00:00</td>\n",
              "      <td>1564760826367553537</td>\n",
              "      <td>Kemkominfo Pastikan Siaran TV Analog Berakhir ...</td>\n",
              "      <td>KakakLap</td>\n",
              "    </tr>\n",
              "    <tr>\n",
              "      <th>6</th>\n",
              "      <td>2022-08-30 23:42:33+00:00</td>\n",
              "      <td>1564760515272130560</td>\n",
              "      <td>@hyang_wisnu @PlateJohnny @kemkominfo @jokowi ...</td>\n",
              "      <td>arinuzula</td>\n",
              "    </tr>\n",
              "    <tr>\n",
              "      <th>7</th>\n",
              "      <td>2022-08-30 23:42:12+00:00</td>\n",
              "      <td>1564760428051574784</td>\n",
              "      <td>Menurut @kemkominfo pada pertemuan ke 4 ekonom...</td>\n",
              "      <td>arinuzula</td>\n",
              "    </tr>\n",
              "    <tr>\n",
              "      <th>8</th>\n",
              "      <td>2022-08-30 23:39:52+00:00</td>\n",
              "      <td>1564759839200673792</td>\n",
              "      <td>@hyang_wisnu @PlateJohnny @jokowi Perkuat kola...</td>\n",
              "      <td>arinuzula</td>\n",
              "    </tr>\n",
              "    <tr>\n",
              "      <th>9</th>\n",
              "      <td>2022-08-30 23:39:28+00:00</td>\n",
              "      <td>1564759738214416385</td>\n",
              "      <td>Perkuat kolaborasi teknologi digital.\\nPesan @...</td>\n",
              "      <td>arinuzula</td>\n",
              "    </tr>\n",
              "  </tbody>\n",
              "</table>\n",
              "</div>\n",
              "      <button class=\"colab-df-convert\" onclick=\"convertToInteractive('df-043a4238-3fe7-446a-acf8-7b8a8bbdf793')\"\n",
              "              title=\"Convert this dataframe to an interactive table.\"\n",
              "              style=\"display:none;\">\n",
              "        \n",
              "  <svg xmlns=\"http://www.w3.org/2000/svg\" height=\"24px\"viewBox=\"0 0 24 24\"\n",
              "       width=\"24px\">\n",
              "    <path d=\"M0 0h24v24H0V0z\" fill=\"none\"/>\n",
              "    <path d=\"M18.56 5.44l.94 2.06.94-2.06 2.06-.94-2.06-.94-.94-2.06-.94 2.06-2.06.94zm-11 1L8.5 8.5l.94-2.06 2.06-.94-2.06-.94L8.5 2.5l-.94 2.06-2.06.94zm10 10l.94 2.06.94-2.06 2.06-.94-2.06-.94-.94-2.06-.94 2.06-2.06.94z\"/><path d=\"M17.41 7.96l-1.37-1.37c-.4-.4-.92-.59-1.43-.59-.52 0-1.04.2-1.43.59L10.3 9.45l-7.72 7.72c-.78.78-.78 2.05 0 2.83L4 21.41c.39.39.9.59 1.41.59.51 0 1.02-.2 1.41-.59l7.78-7.78 2.81-2.81c.8-.78.8-2.07 0-2.86zM5.41 20L4 18.59l7.72-7.72 1.47 1.35L5.41 20z\"/>\n",
              "  </svg>\n",
              "      </button>\n",
              "      \n",
              "  <style>\n",
              "    .colab-df-container {\n",
              "      display:flex;\n",
              "      flex-wrap:wrap;\n",
              "      gap: 12px;\n",
              "    }\n",
              "\n",
              "    .colab-df-convert {\n",
              "      background-color: #E8F0FE;\n",
              "      border: none;\n",
              "      border-radius: 50%;\n",
              "      cursor: pointer;\n",
              "      display: none;\n",
              "      fill: #1967D2;\n",
              "      height: 32px;\n",
              "      padding: 0 0 0 0;\n",
              "      width: 32px;\n",
              "    }\n",
              "\n",
              "    .colab-df-convert:hover {\n",
              "      background-color: #E2EBFA;\n",
              "      box-shadow: 0px 1px 2px rgba(60, 64, 67, 0.3), 0px 1px 3px 1px rgba(60, 64, 67, 0.15);\n",
              "      fill: #174EA6;\n",
              "    }\n",
              "\n",
              "    [theme=dark] .colab-df-convert {\n",
              "      background-color: #3B4455;\n",
              "      fill: #D2E3FC;\n",
              "    }\n",
              "\n",
              "    [theme=dark] .colab-df-convert:hover {\n",
              "      background-color: #434B5C;\n",
              "      box-shadow: 0px 1px 3px 1px rgba(0, 0, 0, 0.15);\n",
              "      filter: drop-shadow(0px 1px 2px rgba(0, 0, 0, 0.3));\n",
              "      fill: #FFFFFF;\n",
              "    }\n",
              "  </style>\n",
              "\n",
              "      <script>\n",
              "        const buttonEl =\n",
              "          document.querySelector('#df-043a4238-3fe7-446a-acf8-7b8a8bbdf793 button.colab-df-convert');\n",
              "        buttonEl.style.display =\n",
              "          google.colab.kernel.accessAllowed ? 'block' : 'none';\n",
              "\n",
              "        async function convertToInteractive(key) {\n",
              "          const element = document.querySelector('#df-043a4238-3fe7-446a-acf8-7b8a8bbdf793');\n",
              "          const dataTable =\n",
              "            await google.colab.kernel.invokeFunction('convertToInteractive',\n",
              "                                                     [key], {});\n",
              "          if (!dataTable) return;\n",
              "\n",
              "          const docLinkHtml = 'Like what you see? Visit the ' +\n",
              "            '<a target=\"_blank\" href=https://colab.research.google.com/notebooks/data_table.ipynb>data table notebook</a>'\n",
              "            + ' to learn more about interactive tables.';\n",
              "          element.innerHTML = '';\n",
              "          dataTable['output_type'] = 'display_data';\n",
              "          await google.colab.output.renderOutput(dataTable, element);\n",
              "          const docLink = document.createElement('div');\n",
              "          docLink.innerHTML = docLinkHtml;\n",
              "          element.appendChild(docLink);\n",
              "        }\n",
              "      </script>\n",
              "    </div>\n",
              "  </div>\n",
              "  "
            ]
          },
          "metadata": {},
          "execution_count": 6
        }
      ]
    },
    {
      "cell_type": "code",
      "source": [
        "#Displaying unique values from the dataframe\n",
        "tweets_df2.value_counts()"
      ],
      "metadata": {
        "colab": {
          "base_uri": "https://localhost:8080/"
        },
        "id": "-AEXO-Ddlu74",
        "outputId": "827a9390-8fc1-4ff6-8f77-55c64053adcd"
      },
      "execution_count": null,
      "outputs": [
        {
          "output_type": "execute_result",
          "data": {
            "text/plain": [
              "Datetime                   Tweet Id             Text                                                                                                                                                                                                                                                                                                        Username     \n",
              "2022-08-29 21:24:27+00:00  1564363375307816960  @0xtorpedo @metajava @ojkindonesia @kemkominfo Hi Kak, jgn khawatir, keluhan kamu akan kita bantu. Yuk segera hub kanal resmi Cust Care resmi DANA disini ya:\\n📚 Help Center: https://t.co/izW9vFhoDx\\n📧 Email: help@dana.id\\npastiin menerima info dari akun sosmed DANA yg centang biru ya🙏🏻 Thanks -MH-  danawallet       1\n",
              "2022-08-30 12:22:50+00:00  1564589458028371969  Sahabat #JalanCantik\\nPekerjaan Pemeliharaan Rutin Ruas Kebonagung - Bts. Kab. Batang\\n\\n@ganjarpranowo @TajYasinMZ\\n@provjateng @dpubmckjateng\\n@Bpjkalongan @humasjateng\\n@kominfo_jtg @dprdjatengprov https://t.co/tfyBOHgJLU                                                                            bpjkalongan      1\n",
              "2022-08-30 12:20:03+00:00  1564588758674341888  Sahabat #JalanCantik\\nPekerjaan Pemeliharaan Rutin Ruas Wonotunggal - Bts. Kab. Pekalongan\\n\\n@ganjarpranowo @TajYasinMZ\\n@provjateng @dpubmckjateng\\n@Bpjkalongan @humasjateng\\n@kominfo_jtg @dprdjatengprov https://t.co/cyn6f6RmEt                                                                       bpjkalongan      1\n",
              "2022-08-30 12:20:12+00:00  1564588796444028928  Sahabat #JalanCantik\\nPekerjaan Pemeliharaan Rutin Ruas Wonotunggal - Bts. Kab. Pekalongan\\n\\n@ganjarpranowo @TajYasinMZ\\n@provjateng @dpubmckjateng\\n@Bpjkalongan @humasjateng\\n@kominfo_jtg @dprdjatengprov https://t.co/YouuqNN7wM                                                                       bpjkalongan      1\n",
              "2022-08-30 12:20:21+00:00  1564588833513308163  Sahabat #JalanCantik\\nPekerjaan Pemeliharaan Rutin Ruas Wonotunggal - Bts. Kab. Pekalongan\\n\\n@ganjarpranowo @TajYasinMZ\\n@provjateng @dpubmckjateng\\n@Bpjkalongan @humasjateng\\n@kominfo_jtg @dprdjatengprov https://t.co/anKgQqkT9Z                                                                       bpjkalongan      1\n",
              "                                                                                                                                                                                                                                                                                                                                                                            ..\n",
              "2022-08-30 07:38:37+00:00  1564517933598244864  Buka 4th DEWG Meeting, Menkominfo Johnny Plate Apresiasi Kolaborasi Delegasi G20\\n\\nMenkominfo @PlateJohnny menyambut kedatangan delegasi di Bali untuk melanjutkan pembahasan dalam pertemuan keempat Kelompok Kerja Ekonomi Digital DEWG.\\n@kemkominfo @jokowi https://t.co/EmfttP5HcO                    hyang_wisnu      1\n",
              "2022-08-30 07:40:23+00:00  1564518380606193665  @ethanlee0001 halo kak, registrasi IMEI di beacukai dapat hanya dapat dilakukan thd barang kiriman dan/atau barang bawaan dari luar negeri ya kak.\\ndi luar hal tsb kami sarankan kakak untuk menghubungi Kominfo di 159 ~lif                                                                               bravobeacukai    1\n",
              "2022-08-30 07:44:34+00:00  1564519429693935616  Menkominfo Johnny Plate Dorong Bali Package Jadi Kesepakatan Bersama\\n\\nMenkominfo @PlateJohnny mendorong delegasi untuk menyepakati hasil diskusi atau pembahasan isu yang diusung Presidensi G20 Indonesia untuk penyusunan dokumen Bali Package.\\n@kemkominfo https://t.co/Ix2DOiRbNQ                    hyang_wisnu      1\n",
              "2022-08-30 07:45:26+00:00  1564519647755776000  @gigiboong @BANKBRI_ID @kemkominfo @whatsappbiz @WhatsApp Maap oot, ini masih akunnya Paviolita?                                                                                                                                                                                                            yunastedd        1\n",
              "2022-08-30 23:59:31+00:00  1564764784624828416  Opini WTP 2021 untuk Kominfo https://t.co/orIvvXit4s                                                                                                                                                                                                                                                        19yudith         1\n",
              "Length: 1001, dtype: int64"
            ]
          },
          "metadata": {},
          "execution_count": 7
        }
      ]
    },
    {
      "cell_type": "code",
      "source": [
        "# Displaying shape of the columns (no of data | columns)\n",
        "print(tweets_df2.shape)"
      ],
      "metadata": {
        "colab": {
          "base_uri": "https://localhost:8080/"
        },
        "id": "xLJzJN6XnEMN",
        "outputId": "63b77ab5-80b9-468a-84b3-8d0b23369a12"
      },
      "execution_count": null,
      "outputs": [
        {
          "output_type": "stream",
          "name": "stdout",
          "text": [
            "(1001, 4)\n"
          ]
        }
      ]
    },
    {
      "cell_type": "code",
      "source": [
        "# Turning the dataframe into a csv format\n",
        "from google.colab import files\n",
        "\n",
        "tweets_df2.to_csv('EXAMPLE_KOMINFO.csv')\n",
        "files.download('EXAMPLE_KOMINFO.csv')"
      ],
      "metadata": {
        "colab": {
          "base_uri": "https://localhost:8080/",
          "height": 17
        },
        "id": "RmicZ4W5nSn6",
        "outputId": "5675e990-5875-4b8d-f7d1-fa2fea00233a"
      },
      "execution_count": null,
      "outputs": [
        {
          "output_type": "display_data",
          "data": {
            "text/plain": [
              "<IPython.core.display.Javascript object>"
            ],
            "application/javascript": [
              "\n",
              "    async function download(id, filename, size) {\n",
              "      if (!google.colab.kernel.accessAllowed) {\n",
              "        return;\n",
              "      }\n",
              "      const div = document.createElement('div');\n",
              "      const label = document.createElement('label');\n",
              "      label.textContent = `Downloading \"${filename}\": `;\n",
              "      div.appendChild(label);\n",
              "      const progress = document.createElement('progress');\n",
              "      progress.max = size;\n",
              "      div.appendChild(progress);\n",
              "      document.body.appendChild(div);\n",
              "\n",
              "      const buffers = [];\n",
              "      let downloaded = 0;\n",
              "\n",
              "      const channel = await google.colab.kernel.comms.open(id);\n",
              "      // Send a message to notify the kernel that we're ready.\n",
              "      channel.send({})\n",
              "\n",
              "      for await (const message of channel.messages) {\n",
              "        // Send a message to notify the kernel that we're ready.\n",
              "        channel.send({})\n",
              "        if (message.buffers) {\n",
              "          for (const buffer of message.buffers) {\n",
              "            buffers.push(buffer);\n",
              "            downloaded += buffer.byteLength;\n",
              "            progress.value = downloaded;\n",
              "          }\n",
              "        }\n",
              "      }\n",
              "      const blob = new Blob(buffers, {type: 'application/binary'});\n",
              "      const a = document.createElement('a');\n",
              "      a.href = window.URL.createObjectURL(blob);\n",
              "      a.download = filename;\n",
              "      div.appendChild(a);\n",
              "      a.click();\n",
              "      div.remove();\n",
              "    }\n",
              "  "
            ]
          },
          "metadata": {}
        },
        {
          "output_type": "display_data",
          "data": {
            "text/plain": [
              "<IPython.core.display.Javascript object>"
            ],
            "application/javascript": [
              "download(\"download_c92d56fe-e117-420b-b881-008492d40b11\", \"EXAMPLE_KOMINFO.csv\", 239087)"
            ]
          },
          "metadata": {}
        }
      ]
    }
  ]
}